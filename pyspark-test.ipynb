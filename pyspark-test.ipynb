{
 "cells": [
  {
   "cell_type": "markdown",
   "metadata": {},
   "source": [
    "## How to run pyspark in Jupyter Notebook"
   ]
  },
  {
   "cell_type": "markdown",
   "metadata": {},
   "source": [
    " 1. Set following environment variables\n",
    " ```sh\n",
    " export SPARK_HOME /PATH_SPARK_INSTALLATION/spark3\n",
    " export PYSPARK_PYTHON /PATH_PYTHON\n",
    " \n",
    " ```\n",
    " 2. If you dont have it then install findspark using following command\n",
    " ```sh\n",
    " python -m pip install findspark\n",
    " \n",
    " ```\n",
    " 3. Start Jupyter Notebook\n",
    " 4. Enjoy pyspark coding!"
   ]
  },
  {
   "cell_type": "code",
   "execution_count": 133,
   "metadata": {},
   "outputs": [],
   "source": [
    "import findspark\n",
    "findspark.init()\n",
    "import pyspark\n",
    "from pyspark.sql import SparkSession"
   ]
  },
  {
   "cell_type": "code",
   "execution_count": 2,
   "metadata": {
    "scrolled": true
   },
   "outputs": [],
   "source": [
    "spark = SparkSession.builder.getOrCreate()"
   ]
  },
  {
   "cell_type": "code",
   "execution_count": 3,
   "metadata": {},
   "outputs": [],
   "source": [
    "# Cargamos los archivos de entrada en DataFrames\n",
    "products_df = spark.read.parquet(\"/Users/cefranlly.perez/sparkprojects/analyticalways/data/products.parquet\")\n",
    "sales_df = spark.read.parquet(\"/Users/cefranlly.perez/sparkprojects/analyticalways/data/sales.parquet\")\n",
    "stock_df = spark.read.parquet(\"/Users/cefranlly.perez/sparkprojects/analyticalways/data/stock_movements.parquet\")"
   ]
  },
  {
   "cell_type": "code",
   "execution_count": 4,
   "metadata": {},
   "outputs": [
    {
     "name": "stdout",
     "output_type": "stream",
     "text": [
      "+---------------+---------+--------+-------------+-----------+\n",
      "|ProductRootCode|ProductId|  Family|SupplierPrice|RetailPrice|\n",
      "+---------------+---------+--------+-------------+-----------+\n",
      "|              1|        2|BRACELET|        36.02|      180.0|\n",
      "|              3|        4|BRACELET|        41.43|      220.0|\n",
      "|              5|        6|BRACELET|        53.58|      230.0|\n",
      "|              7|        8|BRACELET|        62.35|      250.0|\n",
      "|              9|       10|BRACELET|         0.64|       59.0|\n",
      "|             11|       12|BRACELET|         0.64|       69.0|\n",
      "|             13|       14|BRACELET|          7.9|       59.0|\n",
      "|             15|       16|BRACELET|        40.11|      210.0|\n",
      "|             17|       18|BRACELET|         6.47|       49.0|\n",
      "|             19|       20|EARRINGS|         3.81|       45.0|\n",
      "+---------------+---------+--------+-------------+-----------+\n",
      "only showing top 10 rows\n",
      "\n"
     ]
    }
   ],
   "source": [
    "# Miramos los datos para empezar a jugar con ellos\n",
    "\"\"\"\n",
    " Input:\n",
    "    ProductRootCode (integer): código raíz del producto, sin talla.\n",
    "    ProductId (integer): código del producto.\n",
    "    SupplierPrice (float): coste del producto.\n",
    "    RetailPrice (float): precio del producto de venta al público.\n",
    "    Family (string): familia de productos a la que pertenece.\n",
    "    \n",
    "    rows -> 9347\n",
    "\"\"\"\n",
    "\n",
    "products_df.show(10)"
   ]
  },
  {
   "cell_type": "code",
   "execution_count": 6,
   "metadata": {},
   "outputs": [
    {
     "name": "stdout",
     "output_type": "stream",
     "text": [
      "+-------+---------+----------+--------+\n",
      "|StoreId|ProductId|      Date|Quantity|\n",
      "+-------+---------+----------+--------+\n",
      "|      2|     6652|2020-12-29|       1|\n",
      "|     50|     6652|2020-06-30|       1|\n",
      "|      8|     6652|2020-02-11|       1|\n",
      "|     30|     6652|2020-01-11|       1|\n",
      "|     41|     6652|2019-05-24|       0|\n",
      "|     25|     6652|2019-01-16|      -1|\n",
      "|     27|     6652|2019-02-14|       1|\n",
      "|      8|     6652|2020-02-10|      -1|\n",
      "|     10|     6652|2019-02-13|       1|\n",
      "|     50|     6652|2020-11-06|       1|\n",
      "+-------+---------+----------+--------+\n",
      "only showing top 10 rows\n",
      "\n"
     ]
    }
   ],
   "source": [
    "\"\"\"\n",
    " Input:\n",
    "    StoreId (integer): Código de la tienda.\n",
    "    ProductId (integer): Código del producto.\n",
    "    Date (date): fecha de la venta.\n",
    "    Quantity (integer): unidades vendidas (los valores negativos corresponden a devoluciones).\n",
    "    rows -> 597426\n",
    "\"\"\"\n",
    "\n",
    "sales_df.show(10)"
   ]
  },
  {
   "cell_type": "code",
   "execution_count": 8,
   "metadata": {},
   "outputs": [
    {
     "name": "stdout",
     "output_type": "stream",
     "text": [
      "+-------+---------+----------+--------+\n",
      "|StoreId|ProductId|      Date|Quantity|\n",
      "+-------+---------+----------+--------+\n",
      "|     13|     4666|2017-01-01|       2|\n",
      "|      1|     4666|2017-01-01|       0|\n",
      "|     14|     2829|2017-01-01|       1|\n",
      "|      2|     2829|2017-01-31|      -1|\n",
      "|      2|     2829|2017-06-30|       1|\n",
      "|      2|     2829|2018-01-21|      -1|\n",
      "|      2|     2829|2017-01-01|       1|\n",
      "|     37|     2829|2017-01-31|       1|\n",
      "|     14|     2829|2017-09-30|       4|\n",
      "|     14|     2829|2017-07-20|      -1|\n",
      "+-------+---------+----------+--------+\n",
      "only showing top 10 rows\n",
      "\n"
     ]
    }
   ],
   "source": [
    "\"\"\"\n",
    " Input:\n",
    "    StoreId (integer): Código de la tienda.\n",
    "    ProductId (integer): Código del producto.\n",
    "    Date (date): fecha del movimiento.\n",
    "    Quantity (integer): unidades de entrada (+) o salida (-).\n",
    "    rows -Z 1891344\n",
    "\"\"\"\n",
    "\n",
    "stock_df.show(10)"
   ]
  },
  {
   "cell_type": "markdown",
   "metadata": {},
   "source": [
    "# Calculo del stock diario\n",
    "A partir de los movimientos de stock hay que calcular el stock diario desde el 01/01/2019, a nivel de código raíz de producto"
   ]
  },
  {
   "cell_type": "code",
   "execution_count": 10,
   "metadata": {},
   "outputs": [
    {
     "name": "stdout",
     "output_type": "stream",
     "text": [
      "+---------+-------+----------+--------+---------------+\n",
      "|ProductId|StoreId|      Date|Quantity|ProductRootCode|\n",
      "+---------+-------+----------+--------+---------------+\n",
      "|     4666|     13|2017-01-01|       2|           4665|\n",
      "|     4666|      1|2017-01-01|       0|           4665|\n",
      "|     2829|     14|2017-01-01|       1|           2828|\n",
      "|     2829|      2|2017-01-31|      -1|           2828|\n",
      "|     2829|      2|2017-06-30|       1|           2828|\n",
      "|     2829|      2|2018-01-21|      -1|           2828|\n",
      "|     2829|      2|2017-01-01|       1|           2828|\n",
      "|     2829|     37|2017-01-31|       1|           2828|\n",
      "|     2829|     14|2017-09-30|       4|           2828|\n",
      "|     2829|     14|2017-07-20|      -1|           2828|\n",
      "+---------+-------+----------+--------+---------------+\n",
      "only showing top 10 rows\n",
      "\n"
     ]
    }
   ],
   "source": [
    "stock_union_df = stock_df.join(products_df.drop(\"Family\", \"SupplierPrice\", \"RetailPrice\"), ['productId']).filter(stock_union_df.ProductRootCode.isNotNull())\n",
    "stock_union_df.show(10)"
   ]
  },
  {
   "cell_type": "code",
   "execution_count": 16,
   "metadata": {},
   "outputs": [],
   "source": [
    "# Agrupamos por Producto Raíz, tienda y fecha para sumar las cantidades y ver como se fue reduciendo o manteniendo el stock en el paso de los días\n",
    "stock_grouped_df = stock_union_df.groupBy(\"ProductRootCode\", \"StoreId\", \"Date\").sum(\"Quantity\").withColumnRenamed(\"sum(Quantity)\", \"Quantity\").orderBy(\"StoreId\", \"ProductRootCode\", \"Date\")\n",
    "stock_grouped_df.show()"
   ]
  },
  {
   "cell_type": "code",
   "execution_count": 29,
   "metadata": {},
   "outputs": [
    {
     "data": {
      "text/plain": [
       "DataFrame[ProductRootCode: int, StoreId: int, Date: date, Quantity: bigint, stock: bigint]"
      ]
     },
     "execution_count": 29,
     "metadata": {},
     "output_type": "execute_result"
    }
   ],
   "source": [
    "# Para el calculo del stock se usa las ventanas de tiempo de spark para entender como fue moviendose la mercancia por tienda\n",
    "from pyspark.sql import Window as W, functions as F\n",
    "w = W.partitionBy([\"ProductRootCode\", \"StoreId\"]).orderBy(\"StoreId\", \"ProductRootCode\", \"Date\")\n",
    "stock_date_df = stock_grouped_df.withColumn(\"stock\", F.sum(\"Quantity\").over(w))\n",
    "stock_date_df.cache()\n",
    "stock_date_df.show()"
   ]
  },
  {
   "cell_type": "code",
   "execution_count": 32,
   "metadata": {},
   "outputs": [],
   "source": [
    "# Creamos un valor temporal para aquellas fechas menores al 2019-01-01 de manera de ser usada para calcular el stock luego del 2019 inclusive\n",
    "\n",
    "df = stock_date_df.withColumn(\"condicionAdicional\", F.when(F.col(\"Date\") < '2019-01-01', \"menor\").otherwise(\"mayor\")).groupBy(\"ProductRootCode\", \"StoreId\", \"condicionAdicional\").agg(F.max(\"Date\").alias(\"Date\"), F.max(\"Stock\").alias(\"Stock\")).drop(\"condicionAdicional\")\n",
    "df.orderBy(\"StoreId\", \"ProductRootCode\", \"Date\").show()\n"
   ]
  },
  {
   "cell_type": "code",
   "execution_count": 38,
   "metadata": {},
   "outputs": [],
   "source": [
    "\"\"\"\n",
    "Ahora del valor temporal creados, forzamos la fecha al 2019 del maximo valor por tienda/prodcuto para aquellas con\n",
    "fecha menor al 2019 y conservamos los demas posteriores a esa fecha\n",
    "\"\"\"\n",
    "df = df.withColumn(\"Date\", F.when(df.Date < '2019-01-01', '2019-01-01').otherwise(col(\"Date\"))).filter((df.Stock > 0) & (df.Date >= '2019-01-01'))\n",
    "\n",
    "df.orderBy(\"StoreId\", \"ProductRootCode\", \"Date\").show()\n",
    "\n"
   ]
  },
  {
   "cell_type": "markdown",
   "metadata": {},
   "source": [
    "## Calculamos para cada código raíz de producto – tienda, los intervalos de fechas y el stock en ese intervalo."
   ]
  },
  {
   "cell_type": "code",
   "execution_count": 102,
   "metadata": {},
   "outputs": [],
   "source": [
    "df_daily = df.groupBy(\"ProductRootCode\", \"StoreId\").agg(F.min(\"Date\").alias(\"StartDate\"), F.max(\"Date\").alias(\"endDate\"), F.min(\"Stock\").alias(\"Stock\")) \\\n",
    "            .withColumn(\"endDate\", F.when(col(\"StartDate\") == col(\"endDate\"), '2020-12-31').otherwise(col(\"endDate\"))) \n",
    "\n",
    "df_daily.show()\n"
   ]
  },
  {
   "cell_type": "markdown",
   "metadata": {},
   "source": [
    "### Escribimos los resultados en el directorio"
   ]
  },
  {
   "cell_type": "code",
   "execution_count": 69,
   "metadata": {},
   "outputs": [],
   "source": [
    "\n",
    "df_daily.coalesce(1).write.parquet(\"/Users/cefranlly.perez/sparkprojects/analyticalways/data/interval_stock/\")\n"
   ]
  },
  {
   "cell_type": "markdown",
   "metadata": {},
   "source": [
    "# Calcular KPIs"
   ]
  },
  {
   "cell_type": "markdown",
   "metadata": {},
   "source": [
    "## Calculando el beneficio de cada producto\n",
    "### sales.quantity * products.RetailPrice - stock.quantity * products.SupplierPrice\n",
    "Siempre que stock.quantity > 0"
   ]
  },
  {
   "cell_type": "code",
   "execution_count": 236,
   "metadata": {},
   "outputs": [],
   "source": [
    "\"\"\"\n",
    "Agrupamos por ProductId y tienda\n",
    "Tomamos en cuenta los valores positivos del stock ya que son los que aún se conservan en cada tienda (Pasivo)\n",
    "Unimos por Producto y tienda para evitar los cross joins\n",
    "\"\"\"\n",
    "benefits_df = sales_df.groupBy(\"ProductId\", \"StoreId\").agg(F.sum(sales_df.Quantity).alias('q_sales')) . \\\n",
    "    join(\n",
    "        stock_df.filter(stock_df.Quantity > 0).groupBy(\"ProductId\", \"StoreId\").agg(F.sum(stock_df.Quantity).alias('q_stock')), ['productId', 'StoreId']\n",
    "    ). \\\n",
    "        join(\n",
    "            products_df, 'productId'\n",
    "        ). \\\n",
    "            drop(\"ProductRootCode\", \"Family\")"
   ]
  },
  {
   "cell_type": "code",
   "execution_count": 237,
   "metadata": {},
   "outputs": [
    {
     "name": "stdout",
     "output_type": "stream",
     "text": [
      "+---------+-------+-------+-------+-------------+-----------+\n",
      "|ProductId|StoreId|q_sales|q_stock|SupplierPrice|RetailPrice|\n",
      "+---------+-------+-------+-------+-------------+-----------+\n",
      "|      158|     27|      1|      4|         1.32|       12.0|\n",
      "|      162|      3|      5|      9|         1.32|       12.0|\n",
      "|     1929|      8|     10|     32|         2.22|       19.0|\n",
      "|    15089|     23|      5|     16|         2.22|       19.0|\n",
      "|      150|     34|      7|      9|         1.85|       12.0|\n",
      "|     1923|      7|      6|     25|         1.69|       12.0|\n",
      "|      154|     13|      5|      9|         1.85|       12.0|\n",
      "|      156|     22|      4|      6|         1.85|       12.0|\n",
      "|     2418|      7|      0|      3|        23.33|      120.0|\n",
      "|     2267|     27|      1|      8|          4.3|       29.0|\n",
      "|     9375|      3|      2|      4|         7.22|       42.0|\n",
      "|     9679|     37|      1|     22|         5.79|       42.0|\n",
      "|    10688|     41|      1|      2|        20.62|      120.0|\n",
      "|    10015|     29|      2|      4|         26.8|      130.0|\n",
      "|     9992|     18|      5|      9|         5.58|       55.0|\n",
      "|    11627|     16|      1|      4|         22.7|      110.0|\n",
      "|    11194|     23|      1|      3|         7.74|       42.0|\n",
      "|    11176|     29|      1|      5|         8.89|       49.0|\n",
      "|     6273|     22|      1|      7|         5.21|       32.0|\n",
      "|     6289|     45|      1|      1|         5.22|       29.0|\n",
      "+---------+-------+-------+-------+-------------+-----------+\n",
      "only showing top 20 rows\n",
      "\n"
     ]
    }
   ],
   "source": [
    "benefits_df.show()"
   ]
  },
  {
   "cell_type": "code",
   "execution_count": 238,
   "metadata": {},
   "outputs": [],
   "source": [
    "\n",
    "benefits_product_df = sales_df.withColumn('year', F.year(F.to_timestamp('Date', 'yyyy-MM-dd'))). \\\n",
    "    groupBy(\"ProductId\", \"year\").agg(F.sum(sales_df.Quantity).alias('q_sales')) . \\\n",
    "    join(\n",
    "        stock_df.withColumn('year', F.year(F.to_timestamp('Date', 'yyyy-MM-dd'))). \\\n",
    "    filter(stock_df.Quantity > 0).groupBy(\"ProductId\", \"year\").agg(F.sum(stock_df.Quantity).alias('q_stock')), ['productId', 'year']\n",
    "    ). \\\n",
    "        join(\n",
    "            products_df, 'productId'\n",
    "        ). \\\n",
    "            drop(\"Family\")"
   ]
  },
  {
   "cell_type": "code",
   "execution_count": 242,
   "metadata": {},
   "outputs": [],
   "source": [
    "# Function para el calculo del beneficio\n",
    "from pyspark.sql.types import DoubleType, DecimalType\n",
    "\n",
    "def benefit(q_sale, q_stock, supplier_price, retail_price):    \n",
    "    result = (q_sale * retail_price) - (q_stock * supplier_price)\n",
    "    return result\n",
    "calculate_udf = F.udf(benefit, DoubleType())"
   ]
  },
  {
   "cell_type": "markdown",
   "metadata": {},
   "source": [
    "## Calculando el beneficio por familia producto y año"
   ]
  },
  {
   "cell_type": "code",
   "execution_count": 243,
   "metadata": {},
   "outputs": [
    {
     "name": "stdout",
     "output_type": "stream",
     "text": [
      "+---------------+----+-------+-------+-----------+-------------+------------------+\n",
      "|ProductRootCode|year|q_sales|q_stock|RetailPrice|SupplierPrice|           benefit|\n",
      "+---------------+----+-------+-------+-----------+-------------+------------------+\n",
      "|          13150|2020|      2|      2|       42.0|         7.22|  69.5600004196167|\n",
      "|           1644|2019|      1|      1|       79.0|        13.57| 65.43000030517578|\n",
      "|           7862|2019|    674|   1976|       19.0|         3.24|6403.7599811553955|\n",
      "|          14475|2019|      4|     17|       69.0|        10.65| 94.95000648498535|\n",
      "|          14622|2019|      2|      8|       25.0|          4.3|15.599998474121094|\n",
      "|           7613|2019|     89|    281|      120.0|        26.33|3281.2700214385986|\n",
      "|           6846|2020|     67|     94|       35.0|         5.94|1786.6399946212769|\n",
      "|           1830|2019|      2|      1|       62.0|        10.65|113.35000038146973|\n",
      "|           2160|2019|      6|     12|       39.0|         6.14|160.32000160217285|\n",
      "|          16109|2021|      5|      1|       29.0|         3.75|            141.25|\n",
      "|          16277|2020|     19|     17|       42.0|         7.11| 677.1299977302551|\n",
      "|          15082|2019|      1|      1|       25.0|         2.94| 22.05999994277954|\n",
      "|           6037|2020|     98|    209|      130.0|         16.5|            9291.5|\n",
      "|          15973|2019|     56|     28|       29.0|         4.36|1501.9199962615967|\n",
      "|           7271|2021|      1|      1|       39.0|         4.73|34.269999980926514|\n",
      "|           7095|2020|    277|    823|       32.0|          6.7|3349.9001569747925|\n",
      "|          11446|2019|    130|    306|       35.0|         5.94|2732.3599824905396|\n",
      "|           6740|2019|     12|      7|       35.0|         6.53|374.28999853134155|\n",
      "|           2090|2019|    110|    474|       39.0|         5.79| 1545.540018081665|\n",
      "|          11117|2019|     29|     28|       59.0|        10.46|1418.1199989318848|\n",
      "+---------------+----+-------+-------+-----------+-------------+------------------+\n",
      "only showing top 20 rows\n",
      "\n"
     ]
    }
   ],
   "source": [
    "benefits_result_product_df = benefits_product_df. \\\n",
    "    groupBy(\"ProductRootCode\", \"year\").agg(F.sum(\"q_sales\").alias(\"q_sales\"), F.sum(\"q_stock\").alias(\"q_stock\"), F.max(\"RetailPrice\").alias(\"RetailPrice\"), F.max(\"SupplierPrice\").alias(\"SupplierPrice\")). \\\n",
    "        withColumn(\"benefit\", \n",
    "                    calculate_udf(\"q_sales\", \"q_stock\", \"SupplierPrice\", \"RetailPrice\"))\n",
    "benefits_result_product_df.show()\n",
    "\n"
   ]
  },
  {
   "cell_type": "markdown",
   "metadata": {},
   "source": [
    "## Calculando el beneficio por tienda y año"
   ]
  },
  {
   "cell_type": "code",
   "execution_count": 247,
   "metadata": {},
   "outputs": [
    {
     "name": "stdout",
     "output_type": "stream",
     "text": [
      "+-------+----+-------+-------+-------------+-----------+-------------------+\n",
      "|StoreId|year|q_sales|q_stock|SupplierPrice|RetailPrice|            benefit|\n",
      "+-------+----+-------+-------+-------------+-----------+-------------------+\n",
      "|     25|2020|      4|      5|         1.32|       12.0|  41.39999973773956|\n",
      "|     14|2019|     10|     17|         2.22|       19.0|  152.2599995136261|\n",
      "|     27|2019|      2|      3|         2.22|       19.0|  31.33999991416931|\n",
      "|      3|2020|      4|      8|         1.85|       12.0|  33.19999980926514|\n",
      "|      8|2019|      6|      8|         1.69|       12.0|  58.47999954223633|\n",
      "|     18|2019|      1|      1|        58.05|      210.0| 151.95000076293945|\n",
      "|     18|2019|      1|      3|         7.72|       45.0|  21.84000062942505|\n",
      "|     10|2020|      1|      1|        15.29|       89.0|  73.71000003814697|\n",
      "|     43|2020|      1|      1|         26.4|      130.0| 103.60000038146973|\n",
      "|     18|2019|      1|      1|         26.4|      130.0| 103.60000038146973|\n",
      "|     13|2019|      0|      4|         5.61|       55.0|-22.440000534057617|\n",
      "|      7|2019|      2|      1|         5.84|       32.0|  58.15999984741211|\n",
      "|     41|2019|      1|      2|         5.22|       29.0|   18.5600004196167|\n",
      "|     34|2020|      2|      2|         6.07|       42.0|  71.85999965667725|\n",
      "|      8|2019|      1|      2|         22.7|      110.0|   64.5999984741211|\n",
      "|      8|2020|      1|      1|        10.16|       55.0|  44.84000015258789|\n",
      "|     43|2020|      2|      1|         5.21|       32.0|  58.78999996185303|\n",
      "|     13|2019|      3|      1|         5.22|       29.0|  81.78000020980835|\n",
      "|     23|2020|      1|      1|         5.22|       29.0|  23.78000020980835|\n",
      "|     38|2019|      3|      4|         5.22|       29.0|   66.1200008392334|\n",
      "+-------+----+-------+-------+-------------+-----------+-------------------+\n",
      "only showing top 20 rows\n",
      "\n"
     ]
    }
   ],
   "source": [
    "\"\"\"\n",
    "Agrupamos por Tienda y año\n",
    "Tomamos en cuenta los valores positivos del stock ya que son los que aún se conservan en cada tienda (Pasivo)\n",
    "\"\"\"\n",
    "\n",
    "benefits_retail_df = sales_df.withColumn('year', F.year(F.to_timestamp('Date', 'yyyy-MM-dd'))). \\\n",
    "    groupBy(\"ProductId\", \"StoreId\", \"year\").agg(F.sum(sales_df.Quantity).alias('q_sales')) . \\\n",
    "    join(\n",
    "        stock_df.withColumn('year', F.year(F.to_timestamp('Date', 'yyyy-MM-dd'))). \\\n",
    "    filter(stock_df.Quantity > 0).groupBy(\"ProductId\", \"StoreId\", \"year\").agg(F.sum(stock_df.Quantity).alias('q_stock')), ['productId', 'StoreId','year']\n",
    "    ). \\\n",
    "        join(\n",
    "            products_df, 'productId'\n",
    "        ). \\\n",
    "            drop(\"Family\", \"ProductRootCode\", \"ProductId\")\n",
    "\n",
    "\n",
    "calculate_udf = F.udf(benefit, DoubleType())\n",
    "benefits_result_store_df = benefits_retail_df. \\\n",
    "        withColumn(\"benefit\", \n",
    "                    calculate_udf(\"q_sales\", \"q_stock\", \"SupplierPrice\", \"RetailPrice\"))\n",
    "\n",
    "benefits_result_store_df.show()\n",
    "\n"
   ]
  },
  {
   "cell_type": "markdown",
   "metadata": {},
   "source": [
    "## Calculo de la rotación"
   ]
  },
  {
   "cell_type": "code",
   "execution_count": null,
   "metadata": {},
   "outputs": [],
   "source": []
  }
 ],
 "metadata": {
  "kernelspec": {
   "display_name": "Python 3",
   "language": "python",
   "name": "python3"
  },
  "language_info": {
   "codemirror_mode": {
    "name": "ipython",
    "version": 3
   },
   "file_extension": ".py",
   "mimetype": "text/x-python",
   "name": "python",
   "nbconvert_exporter": "python",
   "pygments_lexer": "ipython3",
   "version": "3.8.6"
  }
 },
 "nbformat": 4,
 "nbformat_minor": 2
}
